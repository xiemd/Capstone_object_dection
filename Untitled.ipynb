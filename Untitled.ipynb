{
 "cells": [
  {
   "cell_type": "code",
   "execution_count": 1,
   "metadata": {
    "collapsed": true
   },
   "outputs": [],
   "source": [
    "import tensorflow as tf\n",
    "import numpy as np\n",
    "from random import shuffle\n",
    "import cv2\n",
    "import json\n",
    "import os"
   ]
  },
  {
   "cell_type": "code",
   "execution_count": 5,
   "metadata": {},
   "outputs": [
    {
     "name": "stdout",
     "output_type": "stream",
     "text": [
      "[[214.1664, 192.99996, 261.00032, 224.83332000000001, 1], [74.83328, 160.49988, 224.0, 267.4998, 1]]\n"
     ]
    }
   ],
   "source": [
    "# read label data, get the image list and bbox dictionary\n",
    "imglist=[]\n",
    "bbox_list = {}\n",
    "shuffle_data = True\n",
    "cwd = os.getcwd()\n",
    "root = cwd+\"/data/training/\"\n",
    "bbox = open(root+\"label.idl\",\"r\")\n",
    "for line in bbox.readlines():\n",
    "    a = json.loads(line)\n",
    "    imglist.append(a.keys()[0])\n",
    "    bbox_list.update(a)\n",
    "# print len(imglist)\n",
    "# print len(label_list)\n",
    "print bbox_list[imglist[0]]\n",
    "if shuffle_data:\n",
    "    shuffle(imglist)"
   ]
  },
  {
   "cell_type": "code",
   "execution_count": 28,
   "metadata": {},
   "outputs": [],
   "source": [
    "#convert bbox to label\n",
    "\n",
    "def get_yolo_xy(cx, cy, dscale):\n",
    "    i = int(np.floor(cy/dscale))\n",
    "    j = int(np.floor(cx/dscale))\n",
    "    yolox = cx - j*dscale\n",
    "    yoloy = cy - i*dscale\n",
    "    return i, j, yolox, yoloy\n",
    "\n",
    "def ResizeImg_bboxTransfer(img,bboxs, size, dscale, grid_size):\n",
    "    '''\n",
    "    index indicate the which box should be assigned to the tensor\n",
    "    '''\n",
    "    #initial the bboxyolo\n",
    "    bboxyolo = np.zeros(grid_size)\n",
    "    for index in range(len(bboxs)):\n",
    "        bbox = bboxs[index]\n",
    "        lx, ly, rx, ry, c = bbox\n",
    "        print \"lx is {}, ly is {}, rx is {}, ly is {}\".format(lx,ly,rx,ry)\n",
    "        \n",
    "        #get the center (x,y), width and height of the bbox\n",
    "        cx = (lx + rx)/2\n",
    "        cy = (ly + ry)/2\n",
    "        w = ry - ly\n",
    "        h = rx - lx\n",
    "        \n",
    "        #normalize the cx and cy, get the grid number and relative coordinate (cx, cy)\n",
    "        i, j, yolox, yoloy = get_yolo_xy(cx, cy, dscale)\n",
    "        wt = 1.0*w/size\n",
    "        ht = 1.0*h/size\n",
    "        print \"i is {}, j is {}, yolox is {}, yoloy is {}, wt is {}, ht is {}\".format(i, j, yolox, yoloy, wt, ht)\n",
    "        \n",
    "        #create the label vec\n",
    "        vec = np.asarray([1,yolox, yoloy, wt, ht, 0, 0, 0, 0])\n",
    "        if c == 1:\n",
    "            vec[5] = 1\n",
    "        if c == 2:\n",
    "            vec[6] = 1\n",
    "        if c == 3:\n",
    "            vec[7] = 1\n",
    "        if c == 20:\n",
    "            vec[8] = 1\n",
    "        \n",
    "        #assign the vecto the bboxyolo\n",
    "        bboxyolo[i, j, 9*index:9*(index+1)] = vec\n",
    "    print \"bboxyolo's[{}][{}] is {}\".format(i, j, bboxyolo[i, j, :])\n",
    "    return bboxyolo\n",
    "\n",
    "#preprocess the image(resize, change BGR -> RGB,) and write the tfrec file\n",
    "def process(img, size=416):\n",
    "    img = cv2.resize(img, (size,size), interpolation=cv2.INTER_CUBIC)\n",
    "    img= cv2.cvtColor(img, cv2.COLOR_BGR2RGB)\n",
    "    img= img.astype(np.float32)\n",
    "    return img"
   ]
  },
  {
   "cell_type": "code",
   "execution_count": 41,
   "metadata": {},
   "outputs": [
    {
     "name": "stdout",
     "output_type": "stream",
     "text": [
      "29\n"
     ]
    }
   ],
   "source": [
    "#test the label extraction\n",
    "max = 0\n",
    "for img in imglist:\n",
    "    length = len(bbox_list[img])\n",
    "    if length > max:\n",
    "        max = length\n",
    "print max"
   ]
  },
  {
   "cell_type": "code",
   "execution_count": 42,
   "metadata": {},
   "outputs": [
    {
     "data": {
      "text/plain": [
       "2465"
      ]
     },
     "execution_count": 42,
     "metadata": {},
     "output_type": "execute_result"
    }
   ],
   "source": []
  },
  {
   "cell_type": "code",
   "execution_count": 27,
   "metadata": {},
   "outputs": [
    {
     "name": "stdout",
     "output_type": "stream",
     "text": [
      "8000\n",
      "2000\n"
     ]
    }
   ],
   "source": [
    "# create training data and validation data by 8:2\n",
    "train_imglist = imglist[:int(0.8*len(imglist))]\n",
    "val_imglist = imglist[int(0.8*len(imglist)):]\n",
    "print len(train_imglist)\n",
    "print len(val_imglist)"
   ]
  },
  {
   "cell_type": "code",
   "execution_count": 32,
   "metadata": {},
   "outputs": [
    {
     "name": "stdout",
     "output_type": "stream",
     "text": [
      "Now is Processing img 66585.jpg\n",
      "lx is 569.33312, ly is 178.66656, rx is 636.0, ly is 246.49992\n",
      "i is 6, j is 18, yolox is 26.66656, yoloy is 20.58324, wt is 0.163060961538, ht is 0.160256923077\n"
     ]
    },
    {
     "ename": "IndexError",
     "evalue": "index 18 is out of bounds for axis 1 with size 13",
     "output_type": "error",
     "traceback": [
      "\u001b[0;31m---------------------------------------------------------------------------\u001b[0m",
      "\u001b[0;31mIndexError\u001b[0m                                Traceback (most recent call last)",
      "\u001b[0;32m<ipython-input-32-98b3d50b5195>\u001b[0m in \u001b[0;36m<module>\u001b[0;34m()\u001b[0m\n\u001b[1;32m     17\u001b[0m     \u001b[0mbboxs\u001b[0m \u001b[0;34m=\u001b[0m \u001b[0mbbox_list\u001b[0m\u001b[0;34m[\u001b[0m\u001b[0mimgname\u001b[0m\u001b[0;34m]\u001b[0m\u001b[0;34m\u001b[0m\u001b[0m\n\u001b[1;32m     18\u001b[0m     \u001b[0;32mprint\u001b[0m \u001b[0;34m\"Now is Processing img {}\"\u001b[0m\u001b[0;34m.\u001b[0m\u001b[0mformat\u001b[0m\u001b[0;34m(\u001b[0m\u001b[0mimgname\u001b[0m\u001b[0;34m)\u001b[0m\u001b[0;34m\u001b[0m\u001b[0m\n\u001b[0;32m---> 19\u001b[0;31m     \u001b[0mbboxyolo\u001b[0m \u001b[0;34m=\u001b[0m \u001b[0mbboxTransfer\u001b[0m\u001b[0;34m(\u001b[0m\u001b[0mbboxs\u001b[0m\u001b[0;34m=\u001b[0m\u001b[0mbboxs\u001b[0m\u001b[0;34m,\u001b[0m \u001b[0msize\u001b[0m\u001b[0;34m=\u001b[0m\u001b[0msize\u001b[0m\u001b[0;34m,\u001b[0m \u001b[0mdscale\u001b[0m\u001b[0;34m=\u001b[0m\u001b[0mdscale\u001b[0m\u001b[0;34m,\u001b[0m \u001b[0mgrid_size\u001b[0m\u001b[0;34m=\u001b[0m\u001b[0mgrid_size\u001b[0m\u001b[0;34m)\u001b[0m\u001b[0;34m\u001b[0m\u001b[0m\n\u001b[0m\u001b[1;32m     20\u001b[0m \u001b[0;34m\u001b[0m\u001b[0m\n\u001b[1;32m     21\u001b[0m     \u001b[0;31m#load feature\u001b[0m\u001b[0;34m\u001b[0m\u001b[0;34m\u001b[0m\u001b[0m\n",
      "\u001b[0;32m<ipython-input-28-d904ad0847a7>\u001b[0m in \u001b[0;36mbboxTransfer\u001b[0;34m(bboxs, size, dscale, grid_size)\u001b[0m\n\u001b[1;32m     43\u001b[0m \u001b[0;34m\u001b[0m\u001b[0m\n\u001b[1;32m     44\u001b[0m         \u001b[0;31m#assign the vecto the bboxyolo\u001b[0m\u001b[0;34m\u001b[0m\u001b[0;34m\u001b[0m\u001b[0m\n\u001b[0;32m---> 45\u001b[0;31m         \u001b[0mbboxyolo\u001b[0m\u001b[0;34m[\u001b[0m\u001b[0mi\u001b[0m\u001b[0;34m,\u001b[0m \u001b[0mj\u001b[0m\u001b[0;34m,\u001b[0m \u001b[0;36m9\u001b[0m\u001b[0;34m*\u001b[0m\u001b[0mindex\u001b[0m\u001b[0;34m:\u001b[0m\u001b[0;36m9\u001b[0m\u001b[0;34m*\u001b[0m\u001b[0;34m(\u001b[0m\u001b[0mindex\u001b[0m\u001b[0;34m+\u001b[0m\u001b[0;36m1\u001b[0m\u001b[0;34m)\u001b[0m\u001b[0;34m]\u001b[0m \u001b[0;34m=\u001b[0m \u001b[0mvec\u001b[0m\u001b[0;34m\u001b[0m\u001b[0m\n\u001b[0m\u001b[1;32m     46\u001b[0m     \u001b[0;32mprint\u001b[0m \u001b[0;34m\"bboxyolo's[{}][{}] is {}\"\u001b[0m\u001b[0;34m.\u001b[0m\u001b[0mformat\u001b[0m\u001b[0;34m(\u001b[0m\u001b[0mi\u001b[0m\u001b[0;34m,\u001b[0m \u001b[0mj\u001b[0m\u001b[0;34m,\u001b[0m \u001b[0mbboxyolo\u001b[0m\u001b[0;34m[\u001b[0m\u001b[0mi\u001b[0m\u001b[0;34m,\u001b[0m \u001b[0mj\u001b[0m\u001b[0;34m,\u001b[0m \u001b[0;34m:\u001b[0m\u001b[0;34m]\u001b[0m\u001b[0;34m)\u001b[0m\u001b[0;34m\u001b[0m\u001b[0m\n\u001b[1;32m     47\u001b[0m     \u001b[0;32mreturn\u001b[0m \u001b[0mbboxyolo\u001b[0m\u001b[0;34m\u001b[0m\u001b[0m\n",
      "\u001b[0;31mIndexError\u001b[0m: index 18 is out of bounds for axis 1 with size 13"
     ]
    }
   ],
   "source": [
    "#to tf record file\n",
    "size = 416\n",
    "dscale = 32\n",
    "grid_size =(13, 13, 45)\n",
    "\n",
    "train_filename = 'train.tfrecords'\n",
    "writer = tf.python_io.TFRecordWriter(train_filename)\n",
    "\n",
    "# to feature\n",
    "def _bytes_feature(value):\n",
    "    return tf.train.Feature(bytes_list=tf.train.BytesList(value=[value]))\n",
    "\n",
    "for i in range(len(imglist)):\n",
    "    imgname = train_imglist[i]\n",
    "    img = cv2.imread(root+train_imglist[i])\n",
    "    img = process(img)\n",
    "    bboxs = bbox_list[imgname]\n",
    "    print \"Now is Processing img {}\".format(imgname)\n",
    "    bboxyolo = bboxTransfer(bboxs=bboxs, size=size, dscale=dscale, grid_size=grid_size)\n",
    "\n",
    "    #load feature\n",
    "    feature = {'train/label': _bytes_feature(tf.compat.as_bytes(bboxyolo.tostring())),\n",
    "               'train/image': _bytes_feature(tf.compat.as_bytes(img.tostring()))}\n",
    "\n",
    "    # Create an example protocol buffer\n",
    "    example = tf.train.Example(features=tf.train.Features(feature=feature))\n",
    "                            \n",
    "    # Serialize to string and write on the file\n",
    "    writer.write(example.SerializeToString())\n",
    "    \n",
    "    writer.close()\n",
    "    sys.stdout.flush()\n",
    "    "
   ]
  },
  {
   "cell_type": "code",
   "execution_count": 29,
   "metadata": {},
   "outputs": [
    {
     "name": "stdout",
     "output_type": "stream",
     "text": [
      "(416, 416, 3)\n"
     ]
    }
   ],
   "source": [
    "img = cv2.imread(root+imglist[0])\n",
    "a = process(img)\n",
    "print a.shape"
   ]
  },
  {
   "cell_type": "code",
   "execution_count": null,
   "metadata": {
    "collapsed": true
   },
   "outputs": [],
   "source": []
  },
  {
   "cell_type": "code",
   "execution_count": null,
   "metadata": {
    "collapsed": true
   },
   "outputs": [],
   "source": []
  },
  {
   "cell_type": "code",
   "execution_count": null,
   "metadata": {
    "collapsed": true
   },
   "outputs": [],
   "source": []
  },
  {
   "cell_type": "code",
   "execution_count": null,
   "metadata": {
    "collapsed": true
   },
   "outputs": [],
   "source": []
  }
 ],
 "metadata": {
  "kernelspec": {
   "display_name": "Python 2",
   "language": "python",
   "name": "python2"
  },
  "language_info": {
   "codemirror_mode": {
    "name": "ipython",
    "version": 2
   },
   "file_extension": ".py",
   "mimetype": "text/x-python",
   "name": "python",
   "nbconvert_exporter": "python",
   "pygments_lexer": "ipython2",
   "version": "2.7.13"
  }
 },
 "nbformat": 4,
 "nbformat_minor": 2
}
